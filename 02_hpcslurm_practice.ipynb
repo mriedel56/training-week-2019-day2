{
 "cells": [
  {
   "cell_type": "markdown",
   "metadata": {},
   "source": [
    "# FIU-Neuro Boot Camp\n",
    "\n",
    "# Day2: Basics of the HPC/Slurm"
   ]
  },
  {
   "cell_type": "markdown",
   "metadata": {},
   "source": [
    "## Submitting Jobs Practice\n",
    "\n",
    "This tutorial is designed for you to practice submitting a job to HPC's Slurm scheduler.\n",
    "\n",
    "Use a terminal and what you learned from the previous basics of coding session:\n",
    "\n",
    "1) make a directory in your home folder\n",
    "2) copy example.sh from /home/data/cis/training-week-2019/day2/02_example_files into your newly created directory\n",
    "3) edit this file to\n",
    "    a) correspond to your labs HPC queue\n",
    "    b) change the output and error file names to USERNAME_out and USERNAME_err where USERNAME is your FIU username\n",
    "    c) replace the line echo \"hello world\" with a line that will output your usage on the HPC (ADMIN_usage)\n",
    "4) submit the job\n",
    "    "
   ]
  }
 ],
 "metadata": {
  "kernelspec": {
   "display_name": "Python 3",
   "language": "python",
   "name": "python3"
  },
  "language_info": {
   "codemirror_mode": {
    "name": "ipython",
    "version": 3
   },
   "file_extension": ".py",
   "mimetype": "text/x-python",
   "name": "python",
   "nbconvert_exporter": "python",
   "pygments_lexer": "ipython3",
   "version": "3.6.2"
  }
 },
 "nbformat": 4,
 "nbformat_minor": 2
}
