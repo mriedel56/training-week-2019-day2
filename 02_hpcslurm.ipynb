{
 "cells": [
  {
   "cell_type": "markdown",
   "metadata": {},
   "source": [
    "# FIU-Neuro Boot Camp\n",
    "\n",
    "# Day2: Basics of the HPC/SLURM\n"
   ]
  },
  {
   "cell_type": "markdown",
   "metadata": {},
   "source": [
    "## HPC Basics\n",
    "\n",
    "The tutorial will introduce some basic information about FIUs HPC."
   ]
  },
  {
   "cell_type": "markdown",
   "metadata": {},
   "source": [
    "## myquota\n",
    "\n",
    "myquota will provide you with information about your current memory usage, your memory limits, as well as your associated group memory usage and group memory limits.\n"
   ]
  },
  {
   "cell_type": "code",
   "execution_count": null,
   "metadata": {},
   "outputs": [],
   "source": [
    "%%bash\n",
    "myquota\n"
   ]
  },
  {
   "cell_type": "markdown",
   "metadata": {},
   "source": [
    "## ADMIN_usage\n",
    "\n",
    "the ADMIN_usage file in your user home directory provides information about the number of processing hours you and your associated group have used on the HPC since the beginning of the calendar month. You can print the contents of this (and any file for that matter):\n"
   ]
  },
  {
   "cell_type": "code",
   "execution_count": null,
   "metadata": {},
   "outputs": [],
   "source": [
    "%%bash\n",
    "cat ~/ADMIN_usage"
   ]
  },
  {
   "cell_type": "markdown",
   "metadata": {},
   "source": [
    "## Modules\n",
    "\n",
    "Modules are software packages that are available on the HPC. If you want to see what software packages are available:\n"
   ]
  },
  {
   "cell_type": "code",
   "execution_count": null,
   "metadata": {},
   "outputs": [],
   "source": [
    "%%bash\n",
    "module avail\n"
   ]
  },
  {
   "cell_type": "markdown",
   "metadata": {},
   "source": [
    "To see what software packages you already have loaded"
   ]
  },
  {
   "cell_type": "code",
   "execution_count": null,
   "metadata": {},
   "outputs": [],
   "source": [
    "%%bash\n",
    "module list\n"
   ]
  },
  {
   "cell_type": "markdown",
   "metadata": {},
   "source": [
    "To load a module (MATLAB, version 2013b) from the list of available modules"
   ]
  },
  {
   "cell_type": "code",
   "execution_count": null,
   "metadata": {},
   "outputs": [],
   "source": [
    "%%bash\n",
    "module load matlab/2013b"
   ]
  },
  {
   "cell_type": "markdown",
   "metadata": {},
   "source": [
    "To unload the previously loaded module"
   ]
  },
  {
   "cell_type": "code",
   "execution_count": null,
   "metadata": {},
   "outputs": [],
   "source": [
    "%%bash\n",
    "module unload matlab/2013b"
   ]
  },
  {
   "cell_type": "markdown",
   "metadata": {},
   "source": [
    "Lets load another module that is necessary for submitting jobs."
   ]
  },
  {
   "cell_type": "code",
   "execution_count": null,
   "metadata": {},
   "outputs": [],
   "source": [
    "%%bash\n",
    "module load slurm"
   ]
  },
  {
   "cell_type": "markdown",
   "metadata": {},
   "source": [
    "# Submiting Jobs\n",
    "\n",
    "Since we can not run jobs on the visualization or login nodes, we must submit our processing jobs to the Slurm scheduler. This will make sure that any processing, data calculations, etc. will occur on the processing nodes.\n",
    "\n",
    "There are two ways to submit jobs to the Slurm scheduler: 1) using a script or 2) directly from the command line.\n",
    "\n",
    "Using a script. Lets take a look at an example script."
   ]
  },
  {
   "cell_type": "code",
   "execution_count": null,
   "metadata": {},
   "outputs": [],
   "source": [
    "%%bash\n",
    "sbatch 02_example_files/example.sh"
   ]
  },
  {
   "cell_type": "markdown",
   "metadata": {},
   "source": [
    "Lets take a look at the resulting output and error files."
   ]
  },
  {
   "cell_type": "markdown",
   "metadata": {},
   "source": [
    "Another way to submit a job is through a single command line argument.\n",
    "The following line should replicate the same output as the previously submitted job."
   ]
  },
  {
   "cell_type": "code",
   "execution_count": null,
   "metadata": {},
   "outputs": [],
   "source": [
    "%%bash\n",
    "sbatch -J example_job -e example_job_err -o example_job_out -c 1 --qos pq_nbc -p investor --account acc_nbc --wrap=\"echo 'hello world'\""
   ]
  },
  {
   "cell_type": "markdown",
   "metadata": {},
   "source": [
    "## squeue\n",
    "\n",
    "When we submit jobs, they will either immediately begin to run if the resources are available, or may be stuck in a pending state. You can see the status of your jobs by using the squeue command."
   ]
  },
  {
   "cell_type": "code",
   "execution_count": null,
   "metadata": {},
   "outputs": [],
   "source": [
    "%%bash\n",
    "squeue -u miriedel"
   ]
  },
  {
   "cell_type": "markdown",
   "metadata": {},
   "source": [
    "## scancel"
   ]
  },
  {
   "cell_type": "code",
   "execution_count": null,
   "metadata": {},
   "outputs": [],
   "source": [
    "To kill a job that is already running, use the scancel command as such:\n",
    "    \n",
    "scancel JOBID"
   ]
  }
 ],
 "metadata": {
  "anaconda-cloud": {},
  "kernelspec": {
   "display_name": "Python 3",
   "language": "python",
   "name": "python3"
  },
  "language_info": {
   "codemirror_mode": {
    "name": "ipython",
    "version": 3
   },
   "file_extension": ".py",
   "mimetype": "text/x-python",
   "name": "python",
   "nbconvert_exporter": "python",
   "pygments_lexer": "ipython3",
   "version": "3.6.2"
  }
 },
 "nbformat": 4,
 "nbformat_minor": 1
}
