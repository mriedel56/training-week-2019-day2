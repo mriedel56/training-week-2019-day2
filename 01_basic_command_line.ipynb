{
 "cells": [
  {
   "cell_type": "markdown",
   "metadata": {},
   "source": [
    "# FIU-Neuro Boot Camp\n",
    "\n",
    "# Day2: Basic Command Line Operations\n"
   ]
  },
  {
   "cell_type": "markdown",
   "metadata": {},
   "source": [
    "## Basic Command Line Operations\n",
    "\n",
    "The tutorial will start with introducing some basic command line operations in the bash environment. These commands can be used in a Terminal on Mac OS/Linux operating systems.\n",
    "\n",
    "The following commands will be covered:\n",
    "pwd, ls, cp, mv, cd, rm\n",
    "\n",
    "We will go through some examples together, you can then practice on your own, and there is another Jupyter notebook, called 01_basic_command_line_practice.ipynb.\n"
   ]
  },
  {
   "cell_type": "markdown",
   "metadata": {},
   "source": [
    "## pwd\n",
    "\n",
    "The pwd command will print to the scrreen the current directory that the user is operating in."
   ]
  },
  {
   "cell_type": "code",
   "execution_count": null,
   "metadata": {},
   "outputs": [],
   "source": [
    "%%bash\n",
    "pwd"
   ]
  },
  {
   "cell_type": "markdown",
   "metadata": {},
   "source": [
    "## ls\n",
    "\n",
    "The ls command, by itself, will print to the screen the files that are located in the current directory. "
   ]
  },
  {
   "cell_type": "code",
   "execution_count": null,
   "metadata": {},
   "outputs": [],
   "source": [
    "%%bash\n",
    "ls"
   ]
  },
  {
   "cell_type": "markdown",
   "metadata": {},
   "source": [
    "See more file information, such as user priveleges, file authorship, creation/edit data, and file size by calling \"ls -l\" (lower case L)"
   ]
  },
  {
   "cell_type": "code",
   "execution_count": null,
   "metadata": {},
   "outputs": [],
   "source": [
    "%%bash\n",
    "ls -l"
   ]
  },
  {
   "cell_type": "markdown",
   "metadata": {},
   "source": [
    "List files in another directory by entering the directory name after the ls commands."
   ]
  },
  {
   "cell_type": "code",
   "execution_count": null,
   "metadata": {},
   "outputs": [],
   "source": [
    "%%bash\n",
    "ls /home/data/cis"
   ]
  },
  {
   "cell_type": "markdown",
   "metadata": {},
   "source": [
    "List only files of a certain type, or that contain a certain string by using wildcard symbols such as *"
   ]
  },
  {
   "cell_type": "code",
   "execution_count": null,
   "metadata": {},
   "outputs": [],
   "source": [
    "%%bash\n",
    "ls /home/data/cis/singularity-images/*.img"
   ]
  },
  {
   "cell_type": "code",
   "execution_count": null,
   "metadata": {},
   "outputs": [],
   "source": [
    "%%bash\n",
    "ls /home/data/cis/singularity-images/*fmriprep*"
   ]
  },
  {
   "cell_type": "markdown",
   "metadata": {},
   "source": [
    "## cp\n",
    "\n",
    "The cp command allows you to copy files.\n",
    "\n",
    "To create a copy of a file located in the current directory, but with a different filename:\n"
   ]
  },
  {
   "cell_type": "code",
   "execution_count": null,
   "metadata": {},
   "outputs": [],
   "source": [
    "%%bash\n",
    "#first, list the files in the current directory\n",
    "ls\n",
    "cp ./01_example_files/copy_example_original.txt ./copy_example_copy.txt\n",
    "#now, ls again to see the new file has been copied\n",
    "ls"
   ]
  },
  {
   "cell_type": "markdown",
   "metadata": {},
   "source": [
    "To create a copy of a file located in the current directory, to a different directory:"
   ]
  },
  {
   "cell_type": "code",
   "execution_count": null,
   "metadata": {},
   "outputs": [],
   "source": [
    "%%bash\n",
    "ls\n",
    "cp ./01_example_files/copy_example_original.txt 01_example_files/copy_example_directory/\n",
    "ls copy_example_directory/\n",
    "cp ./01_example_files/copy_example_original.txt 01_example_files/copy_example_directory/copy_example_copy.txt\n",
    "ls copy_example_directory/"
   ]
  },
  {
   "cell_type": "markdown",
   "metadata": {},
   "source": [
    "To copy more than one file using wild cards to a different directory:"
   ]
  },
  {
   "cell_type": "code",
   "execution_count": null,
   "metadata": {},
   "outputs": [],
   "source": [
    "%%bash\n",
    "cp ./01_example_files/*example*.txt ./01_example_files/copy_example_directory/"
   ]
  },
  {
   "cell_type": "markdown",
   "metadata": {},
   "source": [
    "Use the -r argument to copy directories."
   ]
  },
  {
   "cell_type": "code",
   "execution_count": null,
   "metadata": {},
   "outputs": [],
   "source": [
    "%%bash\n",
    "cp -r ./01_example_files/copy_example_directory ./01_example_files/copy_example_directory_copy"
   ]
  },
  {
   "cell_type": "markdown",
   "metadata": {},
   "source": [
    "## mv\n",
    "\n",
    "The mv command allows you to move files from one location to another, or, rename a file in one location.\n",
    "\n",
    "To rename a file:"
   ]
  },
  {
   "cell_type": "code",
   "execution_count": null,
   "metadata": {},
   "outputs": [],
   "source": [
    "%%bash\n",
    "# first, list the files in the directory\n",
    "ls\n",
    "mv ./01_example_files/copy_example_copy.txt ./01_example_files/copy_example_moved.txt\n",
    "# ls to see the changed file name\n",
    "ls"
   ]
  },
  {
   "cell_type": "markdown",
   "metadata": {},
   "source": [
    "To move a file from one directory to another:"
   ]
  },
  {
   "cell_type": "code",
   "execution_count": null,
   "metadata": {},
   "outputs": [],
   "source": [
    "%%bash\n",
    "ls\n",
    "mv ./01_example_files/copy_example_moved.txt ~/"
   ]
  },
  {
   "cell_type": "markdown",
   "metadata": {},
   "source": [
    "## rm\n",
    "\n",
    "The rm command will remove files. Be careful, these commands are permanent!\n"
   ]
  },
  {
   "cell_type": "code",
   "execution_count": null,
   "metadata": {},
   "outputs": [],
   "source": [
    "%%bash\n",
    "# list the files in the current directory\n",
    "ls\n",
    "# lets create a new copy of the copy_example_original.txt file\n",
    "cp ./01_example_files/copy_example_original.txt ./01_example_files/copy_example_copy.txt\n",
    "# now lets remove it\n",
    "rm ./01_example_files/copy_example_copy.txt"
   ]
  },
  {
   "cell_type": "markdown",
   "metadata": {},
   "source": [
    "Use the -r command to delete directories."
   ]
  },
  {
   "cell_type": "code",
   "execution_count": null,
   "metadata": {},
   "outputs": [],
   "source": [
    "%%bash\n",
    "ls\n",
    "rm -r ./01_example_files/copy_example_directory_copy\n",
    "ls"
   ]
  },
  {
   "cell_type": "markdown",
   "metadata": {},
   "source": [
    "## cd\n",
    "\n",
    "The cd command will change the directory you are operating in on the terminal.\n"
   ]
  },
  {
   "cell_type": "code",
   "execution_count": null,
   "metadata": {},
   "outputs": [],
   "source": [
    "%%bash\n",
    "# print the current directory\n",
    "pwd\n",
    "# change directories\n",
    "cd ./01_example_files/copy_example_directory/\n",
    "# print the new current directory\n",
    "pwd"
   ]
  },
  {
   "cell_type": "markdown",
   "metadata": {},
   "source": [
    "Change to previous level in the directory tree:"
   ]
  },
  {
   "cell_type": "code",
   "execution_count": null,
   "metadata": {},
   "outputs": [],
   "source": [
    "%%bash\n",
    "# print the current directory\n",
    "pwd\n",
    "# change directories\n",
    "cd ../\n",
    "# print the new current directory\n",
    "pwd"
   ]
  },
  {
   "cell_type": "markdown",
   "metadata": {},
   "source": [
    "## Other useful commands\n",
    "\n",
    "Other useful commands include\n",
    "\n",
    "mkdir: make a directory, use -p to create a hierarchay of directories that do not exist\n",
    "\n",
    "echo: prints the subsequent command line arguments\n",
    "\n",
    "cat/more: prints the contents of the file that follows the command\n",
    "\n",
    "man: will print the help for the subsequent command"
   ]
  }
 ],
 "metadata": {
  "anaconda-cloud": {},
  "kernelspec": {
   "display_name": "Python 3",
   "language": "python",
   "name": "python3"
  },
  "language_info": {
   "codemirror_mode": {
    "name": "ipython",
    "version": 3
   },
   "file_extension": ".py",
   "mimetype": "text/x-python",
   "name": "python",
   "nbconvert_exporter": "python",
   "pygments_lexer": "ipython3",
   "version": "3.6.2"
  }
 },
 "nbformat": 4,
 "nbformat_minor": 1
}
